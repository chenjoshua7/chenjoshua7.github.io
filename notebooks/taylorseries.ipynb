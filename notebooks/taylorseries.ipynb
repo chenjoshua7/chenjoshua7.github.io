{
 "cells": [
  {
   "cell_type": "code",
   "execution_count": 2,
   "metadata": {},
   "outputs": [],
   "source": [
    "import numpy as np\n",
    "import pandas as pd\n",
    "import math\n",
    "import matplotlib.pyplot as plt\n",
    "from IPython.display import clear_output\n",
    "import time"
   ]
  },
  {
   "cell_type": "code",
   "execution_count": 3,
   "metadata": {},
   "outputs": [],
   "source": [
    "def exp_taylor_series(X: float, N: int, A: float) -> float:\n",
    "    n = np.array(range(N+1))\n",
    "    a = (X - A)**n\n",
    "\n",
    "    factorials = []\n",
    "    for number in n:\n",
    "        factorials.append(math.factorial(number))\n",
    "    factorials_array = np.array(factorials)\n",
    "\n",
    "    a = a / factorials_array\n",
    "\n",
    "    deriv = np.empty(N+1)\n",
    "    deriv.fill(np.exp(A))\n",
    "    return np.dot(a, deriv)"
   ]
  },
  {
   "cell_type": "code",
   "execution_count": 4,
   "metadata": {},
   "outputs": [],
   "source": [
    "def cos_taylor_series(X: float, N: int, A: float) -> float:\n",
    "    result = 0\n",
    "    for n in range(N + 1):\n",
    "        if n % 4 == 0:\n",
    "            result += (math.cos(A) * (X - A)**n) / math.factorial(n)\n",
    "        elif n % 4 == 1:\n",
    "            result -= (math.sin(A) * (X - A)**n) / math.factorial(n)\n",
    "        elif n % 4 == 2:\n",
    "            result -= (math.cos(A) * (X - A)**n) / math.factorial(n)\n",
    "        elif n % 4 == 3:\n",
    "            result += (math.sin(A) * (X - A)**n) / math.factorial(n)\n",
    "    return result\n",
    "\n",
    "def sin_taylor_series(X: float, N: int, A: float) -> float:\n",
    "    result = 0\n",
    "    for n in range(N + 1):\n",
    "        if n % 4 == 0:\n",
    "            result += (math.sin(A) * (X - A)**n) / math.factorial(n)\n",
    "        elif n % 4 == 1:\n",
    "            result += (math.cos(A) * (X - A)**n) / math.factorial(n)\n",
    "        elif n % 4 == 2:\n",
    "            result -= (math.sin(A) * (X - A)**n) / math.factorial(n)\n",
    "        elif n % 4 == 3:\n",
    "            result -= (math.cos(A) * (X - A)**n) / math.factorial(n)\n",
    "    return result"
   ]
  },
  {
   "cell_type": "code",
   "execution_count": 20,
   "metadata": {},
   "outputs": [],
   "source": [
    "class taylor_series:\n",
    "    def __init__(self) -> None:\n",
    "        self.graph_params = {}\n",
    "        self.params = {}\n",
    "        self.xs = None\n",
    "        \n",
    "    def set_params(self, N = 5, A = 0):\n",
    "        self.params[\"N\"] = N\n",
    "        self.params[\"A\"] = A\n",
    "        return\n",
    "    \n",
    "    def set_graph_params(self, size = 100, lower_bound = -5, upper_bound = 5):\n",
    "        self.graph_params = {\n",
    "            \"size\": size,\n",
    "            \"lower_bound\": lower_bound,\n",
    "            \"upper_bound\": upper_bound\n",
    "        }\n",
    "    \n",
    "    def plot_function(self, func=\"exponential\"):\n",
    "        assert func in [\"exponential\", \"cosine\", \"sine\"]\n",
    "        \n",
    "        if func == \"exponential\":\n",
    "            taylor=exp_taylor_series\n",
    "            function = np.exp\n",
    "        elif func == \"cosine\":\n",
    "            taylor = cos_taylor_series\n",
    "            function = np.cos\n",
    "        elif func == \"sine\":\n",
    "            taylor = sin_taylor_series\n",
    "            function = np.sin\n",
    "            \n",
    "        if not self.graph_params:\n",
    "            self.set_graph_params()\n",
    "        \n",
    "        size = self.graph_params[\"size\"]\n",
    "        lower_bound = self.graph_params[\"lower_bound\"]\n",
    "        upper_bound = self.graph_params[\"upper_bound\"]\n",
    "        \n",
    "        if self.xs is None:\n",
    "            self.xs = np.sort(np.random.uniform(low=lower_bound, high=upper_bound, size=size))\n",
    "            \n",
    "        y = function(self.xs)\n",
    "        \n",
    "        taylor_ys = [taylor(x, **self.params) for x in self.xs]\n",
    "        \n",
    "        plt.figure(figsize=(10, 6))\n",
    "        plt.plot(self.xs, y, label='Function', marker='o')\n",
    "        plt.plot(self.xs, taylor_ys, label='Taylor Approximation', marker='o', color='red')\n",
    "        plt.title(\"Plot of the Function and its Taylor Series Approximation\")\n",
    "        plt.xlim(lower_bound *1.1, upper_bound *  1.1)\n",
    "        plt.ylim(np.min(y) - abs(0.1 *np.max(y)), np.max(y) * 1.1)\n",
    "        plt.text(x = lower_bound, y = np.max(y)*2/3, s = f\"Order = {self.params['N']}\")\n",
    "        plt.text(x = lower_bound, y = np.max(y)*3/4, s = f\"Function = {func}\")\n",
    "        plt.legend()\n",
    "        plt.show()\n",
    "        \n",
    "    def visualize_plots(self, N=10, A = 0, func = \"exponential\"):\n",
    "        for i in range(N+1):\n",
    "            self.set_params(N=i, A = A)\n",
    "            self.plot_function(func = func)\n",
    "            display(plt.gcf())\n",
    "            plt.close()\n",
    "            time.sleep(1)\n",
    "            clear_output(wait=True) \n"
   ]
  },
  {
   "cell_type": "code",
   "execution_count": 21,
   "metadata": {},
   "outputs": [
    {
     "data": {
      "image/png": "[encoded data removed]",
      "text/plain": [
       "<Figure size 1000x600 with 1 Axes>"
      ]
     },
     "metadata": {},
     "output_type": "display_data"
    },
    {
     "data": {
      "text/plain": [
       "<Figure size 640x480 with 0 Axes>"
      ]
     },
     "metadata": {},
     "output_type": "display_data"
    }
   ],
   "source": [
    "TaylorSeries = taylor_series()\n",
    "TaylorSeries.visualize_plots(N = 15, A = 0, func = \"exponential\")"
   ]
  },
  {
   "cell_type": "code",
   "execution_count": 44,
   "metadata": {},
   "outputs": [],
   "source": [
    "def relu(x):\n",
    "    return np.maximum(0, x)"
   ]
  },
  {
   "cell_type": "code",
   "execution_count": 99,
   "metadata": {},
   "outputs": [],
   "source": [
    "def initialize_weights(layer_dims):\n",
    "    params = {}\n",
    "    params[\"layers\"] = len(layer_dims)\n",
    "    for l in range(1,len(layer_dims)):\n",
    "        params[\"W\" + str(l)] = np.random.randn(layer_dims[l], layer_dims[l-1])\n",
    "        params[\"b\" + str(l)] = np.zeros((layer_dims[l],1))\n",
    "    return params "
   ]
  },
  {
   "cell_type": "code",
   "execution_count": 91,
   "metadata": {},
   "outputs": [],
   "source": [
    "def cost(ypred, y):\n",
    "    m = len(y)\n",
    "    return(np.sum((ypred - y)**2)/m)"
   ]
  },
  {
   "cell_type": "code",
   "execution_count": 103,
   "metadata": {},
   "outputs": [],
   "source": [
    "def forward_propagation(X, y, params):\n",
    "    cache = {}\n",
    "    \n",
    "    layers = params[\"layers\"]\n",
    "    W1 = params[\"W1\"]\n",
    "    b1 = params[\"W2\"]\n",
    "    \n",
    "    Zl = np.dot(X, W1) + b1\n",
    "    Al = relu(Zl)\n",
    "    \n",
    "    cache[\"Z1\"] = Zl\n",
    "    cache[\"A1\"] = Al\n",
    "    \n",
    "    for l in range(2, layers):\n",
    "        Wl = params[\"W\" + str[l]]\n",
    "        bl = params[\"b\" + str(l)]\n",
    "        \n",
    "        Zl = np.dot(Zl, Wl) + bl\n",
    "        Al = relu(Zl)\n",
    "        \n",
    "        cache[\"Z\" + str(l)] = Zl\n",
    "        cache[\"A\" + str(l)] = Al\n",
    "        \n",
    "    return Al, cache"
   ]
  },
  {
   "cell_type": "code",
   "execution_count": null,
   "metadata": {},
   "outputs": [],
   "source": [
    "def relu_derivative(x):\n",
    "    return np.where(x > 0, 1, 0)"
   ]
  },
  {
   "cell_type": "code",
   "execution_count": 105,
   "metadata": {},
   "outputs": [],
   "source": [
    "def backward_propagation(cache, params, y):\n",
    "    layers = params[\"layers\"]\n",
    "    grads = {}\n",
    "    \n",
    "    Al = cache[\"A\" + str(layers)]\n",
    "    dAl = -2 * (y - Al)\n",
    "    dZl = dAl * relu_derivative(cache[\"Z\" + str(layers)])\n",
    "    \n",
    "    for l in range(layers, 0, -1):\n",
    "        Al_minus_1 = cache[\"A\" + str(l-1)] if l > 1 else X\n",
    "        \n",
    "        grads[\"dW\" + str(l)] = np.dot(Al_minus_1.T, dZl) / y.shape[0]\n",
    "        grads[\"db\" + str(l)] = np.mean(dZl, axis=0)\n",
    "        \n",
    "        if l > 1:\n",
    "            dAl = np.dot(dZl, params[\"W\" + str(l)].T)\n",
    "            dZl = dAl * relu_derivative(cache[\"Z\" + str(l-1)])\n",
    "    \n",
    "    return grads\n"
   ]
  },
  {
   "cell_type": "code",
   "execution_count": null,
   "metadata": {},
   "outputs": [],
   "source": []
  }
 ],
 "metadata": {
  "kernelspec": {
   "display_name": "uni",
   "language": "python",
   "name": "python3"
  },
  "language_info": {
   "codemirror_mode": {
    "name": "ipython",
    "version": 3
   },
   "file_extension": ".py",
   "mimetype": "text/x-python",
   "name": "python",
   "nbconvert_exporter": "python",
   "pygments_lexer": "ipython3",
   "version": "3.11.5"
  }
 },
 "nbformat": 4,
 "nbformat_minor": 2
}
